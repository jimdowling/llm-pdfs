{
 "cells": [
  {
   "cell_type": "code",
   "execution_count": 2,
   "metadata": {},
   "outputs": [],
   "source": [
    "import hopsworks\n",
    "import pandas as pd"
   ]
  },
  {
   "cell_type": "code",
   "execution_count": 3,
   "metadata": {},
   "outputs": [
    {
     "name": "stdout",
     "output_type": "stream",
     "text": [
      "Connected. Call `.close()` to terminate connection gracefully.\n",
      "\n",
      "Logged in to project, explore it here https://c.app.hopsworks.ai:443/p/314521\n",
      "Connected. Call `.close()` to terminate connection gracefully.\n"
     ]
    }
   ],
   "source": [
    "# You have to set the environment variable 'HOPSWORKS_API_KEY' for login to succeed\n",
    "project = hopsworks.login()\n",
    "fs = project.get_feature_store()"
   ]
  },
  {
   "cell_type": "code",
   "execution_count": 4,
   "metadata": {},
   "outputs": [
    {
     "name": "stdout",
     "output_type": "stream",
     "text": [
      "Finished: Reading data from Hopsworks, using ArrowFlight (1.15s) \n"
     ]
    }
   ],
   "source": [
    "instruction_set = fs.get_feature_group(name=\"instructionset\", version=4)\n",
    "df = instruction_set.read()"
   ]
  },
  {
   "cell_type": "code",
   "execution_count": 5,
   "metadata": {},
   "outputs": [
    {
     "data": {
      "text/html": [
       "<div>\n",
       "<style scoped>\n",
       "    .dataframe tbody tr th:only-of-type {\n",
       "        vertical-align: middle;\n",
       "    }\n",
       "\n",
       "    .dataframe tbody tr th {\n",
       "        vertical-align: top;\n",
       "    }\n",
       "\n",
       "    .dataframe thead th {\n",
       "        text-align: right;\n",
       "    }\n",
       "</style>\n",
       "<table border=\"1\" class=\"dataframe\">\n",
       "  <thead>\n",
       "    <tr style=\"text-align: right;\">\n",
       "      <th></th>\n",
       "      <th>source</th>\n",
       "      <th>page</th>\n",
       "      <th>content</th>\n",
       "    </tr>\n",
       "  </thead>\n",
       "  <tbody>\n",
       "    <tr>\n",
       "      <th>0</th>\n",
       "      <td>01_introduction.pdf</td>\n",
       "      <td>26</td>\n",
       "      <td>A model can also be trained to predict a numbe...</td>\n",
       "    </tr>\n",
       "    <tr>\n",
       "      <th>1</th>\n",
       "      <td>02_serverless_ml.pdf</td>\n",
       "      <td>1</td>\n",
       "      <td>Enterprise AI Value Chain\\n1 / 54</td>\n",
       "    </tr>\n",
       "    <tr>\n",
       "      <th>2</th>\n",
       "      <td>02_serverless_ml.pdf</td>\n",
       "      <td>18</td>\n",
       "      <td>Tabular Data in Pandas\\n18 / 54</td>\n",
       "    </tr>\n",
       "    <tr>\n",
       "      <th>3</th>\n",
       "      <td>01_introduction.pdf</td>\n",
       "      <td>55</td>\n",
       "      <td>Matrix Addition and Subtraction\\n▶The matrices...</td>\n",
       "    </tr>\n",
       "    <tr>\n",
       "      <th>4</th>\n",
       "      <td>02_serverless_ml.pdf</td>\n",
       "      <td>9</td>\n",
       "      <td>ML Pipeline Stages - Data Sources\\n9 / 54</td>\n",
       "    </tr>\n",
       "    <tr>\n",
       "      <th>...</th>\n",
       "      <td>...</td>\n",
       "      <td>...</td>\n",
       "      <td>...</td>\n",
       "    </tr>\n",
       "    <tr>\n",
       "      <th>715</th>\n",
       "      <td>09_mlops.pdf</td>\n",
       "      <td>4</td>\n",
       "      <td>MLOps: Automated Testing to Improve ML Product...</td>\n",
       "    </tr>\n",
       "    <tr>\n",
       "      <th>716</th>\n",
       "      <td>06_cnn_printable.pdf</td>\n",
       "      <td>16</td>\n",
       "      <td>Vanilla Deep Neural Networks Challenges (1/2)\\...</td>\n",
       "    </tr>\n",
       "    <tr>\n",
       "      <th>717</th>\n",
       "      <td>04_deep_feedforward_networks_printable.pdf</td>\n",
       "      <td>46</td>\n",
       "      <td>Backpropagation - Backward Pass - Hidden Layer...</td>\n",
       "    </tr>\n",
       "    <tr>\n",
       "      <th>718</th>\n",
       "      <td>04_deep_feedforward_networks_printable.pdf</td>\n",
       "      <td>8</td>\n",
       "      <td>Perceptron in TensorFlow\\n8 / 58</td>\n",
       "    </tr>\n",
       "    <tr>\n",
       "      <th>719</th>\n",
       "      <td>04_deep_feedforward_networks_printable.pdf</td>\n",
       "      <td>38</td>\n",
       "      <td>Backpropagation - Forward Pass (2/3)\\n▶Compute...</td>\n",
       "    </tr>\n",
       "  </tbody>\n",
       "</table>\n",
       "<p>720 rows × 3 columns</p>\n",
       "</div>"
      ],
      "text/plain": [
       "                                         source  page  \\\n",
       "0                           01_introduction.pdf    26   \n",
       "1                          02_serverless_ml.pdf     1   \n",
       "2                          02_serverless_ml.pdf    18   \n",
       "3                           01_introduction.pdf    55   \n",
       "4                          02_serverless_ml.pdf     9   \n",
       "..                                          ...   ...   \n",
       "715                                09_mlops.pdf     4   \n",
       "716                        06_cnn_printable.pdf    16   \n",
       "717  04_deep_feedforward_networks_printable.pdf    46   \n",
       "718  04_deep_feedforward_networks_printable.pdf     8   \n",
       "719  04_deep_feedforward_networks_printable.pdf    38   \n",
       "\n",
       "                                               content  \n",
       "0    A model can also be trained to predict a numbe...  \n",
       "1                    Enterprise AI Value Chain\\n1 / 54  \n",
       "2                      Tabular Data in Pandas\\n18 / 54  \n",
       "3    Matrix Addition and Subtraction\\n▶The matrices...  \n",
       "4            ML Pipeline Stages - Data Sources\\n9 / 54  \n",
       "..                                                 ...  \n",
       "715  MLOps: Automated Testing to Improve ML Product...  \n",
       "716  Vanilla Deep Neural Networks Challenges (1/2)\\...  \n",
       "717  Backpropagation - Backward Pass - Hidden Layer...  \n",
       "718                   Perceptron in TensorFlow\\n8 / 58  \n",
       "719  Backpropagation - Forward Pass (2/3)\\n▶Compute...  \n",
       "\n",
       "[720 rows x 3 columns]"
      ]
     },
     "execution_count": 5,
     "metadata": {},
     "output_type": "execute_result"
    }
   ],
   "source": [
    "df"
   ]
  },
  {
   "cell_type": "code",
   "execution_count": null,
   "metadata": {},
   "outputs": [],
   "source": [
    "df['prompt'] = df['prompt'].str.replace('<s> [INST]', '<s>[INST]')\n",
    "\n",
    "# add the following question and answer\n",
    "new_rows = [{'prompt': '<s>[INST] What is the name of the course? [/INST] The name of the course is Scalable Machine Learning and Deep Learning, held at KTH. </s>',\n",
    "             'questions': 'What is the name of the course?',\n",
    "             'answers': 'The name of the course is Scalable Machine Learning and Deep Learning, held at KTH.'},\n",
    "            {'prompt': '<s>[INST] Who is the professor of the course? [/INST] The professor of the course is Jim Dowling. </s>',\n",
    "             'questions': 'Who is the professor of the course?',\n",
    "             'answers': 'The professor of the course is Jim Dowling.'}]\n",
    "\n",
    "new_df = pd.DataFrame(new_rows)\n",
    "df = pd.concat([df, new_df], ignore_index=True)\n",
    "\n",
    "# change prompt to text\n",
    "df = df.rename(columns={'prompt': 'text'})\n",
    "\n",
    "# save as .csv only the prompt column\n",
    "df[['text']].to_csv('prompt.csv', index=False)\n"
   ]
  },
  {
   "cell_type": "code",
   "execution_count": null,
   "metadata": {},
   "outputs": [],
   "source": []
  },
  {
   "cell_type": "code",
   "execution_count": null,
   "metadata": {},
   "outputs": [],
   "source": [
    "from transformers import AutoModelForCausalLM, AutoTokenizer\n",
    "\n",
    "device = \"mps\" # the device to load the model onto\n",
    "\n",
    "model = AutoModelForCausalLM.from_pretrained(\"mistralai/Mistral-7B-Instruct-v0.1\")\n",
    "tokenizer = AutoTokenizer.from_pretrained(\"mistralai/Mistral-7B-Instruct-v0.1\")\n",
    "\n",
    "messages = [\n",
    "    {\"role\": \"user\", \"content\": \"What is your favourite condiment?\"},\n",
    "    {\"role\": \"assistant\", \"content\": \"Well, I'm quite partial to a good squeeze of fresh lemon juice. It adds just the right amount of zesty flavour to whatever I'm cooking up in the kitchen!\"},\n",
    "    {\"role\": \"user\", \"content\": \"Do you have mayonnaise recipes?\"}\n",
    "]\n",
    "\n",
    "encodeds = tokenizer.apply_chat_template(messages, return_tensors=\"pt\")\n",
    "\n",
    "model_inputs = encodeds.to(device)\n",
    "model.to(device)\n",
    "\n",
    "generated_ids = model.generate(model_inputs, max_new_tokens=1000, do_sample=True)\n",
    "decoded = tokenizer.batch_decode(generated_ids)\n",
    "print(decoded[0])\n"
   ]
  },
  {
   "cell_type": "code",
   "execution_count": null,
   "metadata": {},
   "outputs": [],
   "source": [
    "generated_ids = model.generate(model_inputs, max_new_tokens=100, do_sample=True)\n",
    "decoded = tokenizer.batch_decode(generated_ids)\n",
    "print(decoded[0])"
   ]
  },
  {
   "cell_type": "code",
   "execution_count": null,
   "metadata": {},
   "outputs": [],
   "source": []
  },
  {
   "cell_type": "code",
   "execution_count": 1,
   "metadata": {},
   "outputs": [
    {
     "name": "stderr",
     "output_type": "stream",
     "text": [
      "/Users/matteocirca/opt/anaconda3/envs/test/lib/python3.8/site-packages/tqdm/auto.py:21: TqdmWarning: IProgress not found. Please update jupyter and ipywidgets. See https://ipywidgets.readthedocs.io/en/stable/user_install.html\n",
      "  from .autonotebook import tqdm as notebook_tqdm\n"
     ]
    },
    {
     "data": {
      "text/plain": [
       "\"<s>[INST] hi [/INST] Hello! How can I assist you today? </s><s>[INST] I'd like to book a flight from Paris to Berlin. [/INST] When do you want to fly? </s><s>[INST] On Friday evening. [/INST] Which class do you want to fly? </s><s>[INST] First class. [/INST] I'm sorry but we don't have any first class flight available. </s><s>[INST] Ok, thanks, goodbye. [/INST]\""
      ]
     },
     "execution_count": 1,
     "metadata": {},
     "output_type": "execute_result"
    }
   ],
   "source": [
    "\n",
    "from transformers import AutoModelForCausalLM, AutoTokenizer\n",
    "\n",
    "model_path = \"matteocirca/Llama-2-13b-chat-hf-smldl\"\n",
    "\n",
    "tokenizer = AutoTokenizer.from_pretrained(model_path)\n",
    "# model = AutoModelForCausalLM.from_pretrained(\n",
    "#     model_path,\n",
    "#     device_map=\"auto\",\n",
    "#     torch_dtype='auto'\n",
    "# ).eval()\n",
    "\n",
    "# Prompt content: \"hi\"\n",
    "messages = [\n",
    "    {\"role\": \"user\", \"content\": \"hi\"},\n",
    "    {\"role\": \"assistant\", \"content\": \"Hello! How can I assist you today?\"},\n",
    "    {\"role\": \"user\", \"content\": \"I'd like to book a flight from Paris to Berlin.\"},\n",
    "    {\"role\": \"assistant\", \"content\": \"When do you want to fly?\"},\n",
    "    {\"role\": \"user\", \"content\": \"On Friday evening.\"},\n",
    "    {\"role\": \"assistant\", \"content\": \"Which class do you want to fly?\"},\n",
    "    {\"role\": \"user\", \"content\": \"First class.\"},\n",
    "    {\"role\": \"assistant\", \"content\": \"I'm sorry but we don't have any first class flight available.\"},\n",
    "    {\"role\": \"user\", \"content\": \"Ok, thanks, goodbye.\"}\n",
    "]\n",
    "\n",
    "input_ids = tokenizer.apply_chat_template(conversation=messages, tokenize=False, add_generation_prompt=True, return_tensors='pt')\n",
    "input_ids\n",
    "# output_ids = model.generate(input_ids.to('cuda'))\n",
    "# response = tokenizer.decode(output_ids[0][input_ids.shape[1]:], skip_special_tokens=True)\n",
    "\n",
    "# # Model response: \"Hello! How can I assist you today?\"\n",
    "# print(response)\n"
   ]
  }
 ],
 "metadata": {
  "kernelspec": {
   "display_name": "test",
   "language": "python",
   "name": "python3"
  },
  "language_info": {
   "codemirror_mode": {
    "name": "ipython",
    "version": 3
   },
   "file_extension": ".py",
   "mimetype": "text/x-python",
   "name": "python",
   "nbconvert_exporter": "python",
   "pygments_lexer": "ipython3",
   "version": "3.8.18"
  }
 },
 "nbformat": 4,
 "nbformat_minor": 2
}
