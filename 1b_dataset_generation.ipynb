{
 "cells": [
  {
   "cell_type": "markdown",
   "id": "0279e128",
   "metadata": {},
   "source": [
    "## <span style=\"color:#ff5f27\">📝 Imports </span>"
   ]
  },
  {
   "cell_type": "code",
   "execution_count": 1,
   "id": "e8efd4e5",
   "metadata": {},
   "outputs": [],
   "source": [
    "import os\n",
    "from openai import OpenAI\n",
    "import getpass\n",
    "import json\n",
    "import pandas as pd\n",
    "import json_repair\n",
    "from tqdm import tqdm"
   ]
  },
  {
   "cell_type": "markdown",
   "id": "4d389343",
   "metadata": {},
   "source": [
    "## <span style=\"color:#ff5f27\">⚙️ Settings </span>"
   ]
  },
  {
   "cell_type": "code",
   "execution_count": 2,
   "id": "270b84fd",
   "metadata": {},
   "outputs": [
    {
     "name": "stdin",
     "output_type": "stream",
     "text": [
      "🔑 Enter your OpenAI API key:  ···················································\n"
     ]
    }
   ],
   "source": [
    "os.environ[\"OPENAI_API_KEY\"] = os.getenv(\"OPENAI_API_KEY\") or getpass.getpass('🔑 Enter your OpenAI API key: ')"
   ]
  },
  {
   "cell_type": "code",
   "execution_count": 3,
   "id": "d58f52ef",
   "metadata": {},
   "outputs": [],
   "source": [
    "client = OpenAI(\n",
    "    api_key=os.environ[\"OPENAI_API_KEY\"],\n",
    ")"
   ]
  },
  {
   "cell_type": "markdown",
   "id": "c16fbf15",
   "metadata": {},
   "source": [
    "## <span style=\"color:#ff5f27;\"> 🔮 Connecting to Hopsworks Feature Store </span>"
   ]
  },
  {
   "cell_type": "code",
   "execution_count": 1,
   "id": "3a8916cf",
   "metadata": {},
   "outputs": [
    {
     "name": "stderr",
     "output_type": "stream",
     "text": [
      "WARNING: log4j.properties is not found. HADOOP_CONF_DIR may be incomplete.\n"
     ]
    },
    {
     "name": "stdout",
     "output_type": "stream",
     "text": [
      "Connected. Call `.close()` to terminate connection gracefully.\n",
      "\n",
      "Logged in to project, explore it here https://snurran.hops.works/p/1143\n",
      "Connected. Call `.close()` to terminate connection gracefully.\n"
     ]
    }
   ],
   "source": [
    "import hopsworks\n",
    "\n",
    "project = hopsworks.login()\n",
    "\n",
    "fs = project.get_feature_store() "
   ]
  },
  {
   "cell_type": "code",
   "execution_count": 5,
   "id": "32f2bbae",
   "metadata": {},
   "outputs": [],
   "source": [
    "# Retrieve the 'documents' feature view\n",
    "feature_view = fs.get_feature_view(\n",
    "    name='documents',\n",
    "    version=1,\n",
    ")"
   ]
  },
  {
   "cell_type": "code",
   "execution_count": 6,
   "id": "f60460ab",
   "metadata": {},
   "outputs": [
    {
     "name": "stderr",
     "output_type": "stream",
     "text": [
      "UserWarning: Could not establish connection to ArrowFlight Server. (Flight returned timeout error, with message: Deadline Exceeded) Will fall back to hive/spark for this session. If the error persists, you can disable using ArrowFlight by changing the cluster configuration (set 'enable_flyingduck'='false').\n",
      "DeprecationWarning: ssl.PROTOCOL_TLS is deprecated\n"
     ]
    },
    {
     "name": "stdout",
     "output_type": "stream",
     "text": [
      "Finished: Reading data from Hopsworks, using Hive (3.42s) \n"
     ]
    },
    {
     "data": {
      "text/html": [
       "<div>\n",
       "<style scoped>\n",
       "    .dataframe tbody tr th:only-of-type {\n",
       "        vertical-align: middle;\n",
       "    }\n",
       "\n",
       "    .dataframe tbody tr th {\n",
       "        vertical-align: top;\n",
       "    }\n",
       "\n",
       "    .dataframe thead th {\n",
       "        text-align: right;\n",
       "    }\n",
       "</style>\n",
       "<table border=\"1\" class=\"dataframe\">\n",
       "  <thead>\n",
       "    <tr style=\"text-align: right;\">\n",
       "      <th></th>\n",
       "      <th>file_name</th>\n",
       "      <th>page_number</th>\n",
       "      <th>paragraph</th>\n",
       "      <th>text</th>\n",
       "    </tr>\n",
       "  </thead>\n",
       "  <tbody>\n",
       "    <tr>\n",
       "      <th>0</th>\n",
       "      <td>NIST.SP.800-53r5.pdf</td>\n",
       "      <td>433</td>\n",
       "      <td>1</td>\n",
       "      <td>NIST  SP 800- 53, REV. 5                      ...</td>\n",
       "    </tr>\n",
       "    <tr>\n",
       "      <th>1</th>\n",
       "      <td>NIST.SP.800-53r5.pdf</td>\n",
       "      <td>417</td>\n",
       "      <td>1</td>\n",
       "      <td>NIST  SP 800- 53, REV. 5                      ...</td>\n",
       "    </tr>\n",
       "    <tr>\n",
       "      <th>2</th>\n",
       "      <td>NIST.SP.800-53r5.pdf</td>\n",
       "      <td>331</td>\n",
       "      <td>1</td>\n",
       "      <td>NIST  SP 800- 53, REV. 5                      ...</td>\n",
       "    </tr>\n",
       "    <tr>\n",
       "      <th>4</th>\n",
       "      <td>pub-ch-bank-supervision-process.pdf</td>\n",
       "      <td>35</td>\n",
       "      <td>1</td>\n",
       "      <td>Version 1.1 Risk- Based Supervision Approach  ...</td>\n",
       "    </tr>\n",
       "    <tr>\n",
       "      <th>8</th>\n",
       "      <td>NIST.SP.800-53r5.pdf</td>\n",
       "      <td>349</td>\n",
       "      <td>1</td>\n",
       "      <td>NIST  SP 800- 53, REV. 5                      ...</td>\n",
       "    </tr>\n",
       "    <tr>\n",
       "      <th>...</th>\n",
       "      <td>...</td>\n",
       "      <td>...</td>\n",
       "      <td>...</td>\n",
       "      <td>...</td>\n",
       "    </tr>\n",
       "    <tr>\n",
       "      <th>2004</th>\n",
       "      <td>GDPR.pdf</td>\n",
       "      <td>77</td>\n",
       "      <td>1</td>\n",
       "      <td>(b)  advise the Commission on any issue relate...</td>\n",
       "    </tr>\n",
       "    <tr>\n",
       "      <th>2005</th>\n",
       "      <td>NIST.SP.800-53r5.pdf</td>\n",
       "      <td>92</td>\n",
       "      <td>1</td>\n",
       "      <td>NIST  SP 800- 53, REV. 5                      ...</td>\n",
       "    </tr>\n",
       "    <tr>\n",
       "      <th>2006</th>\n",
       "      <td>GDPR.pdf</td>\n",
       "      <td>10</td>\n",
       "      <td>1</td>\n",
       "      <td>further use; the nature of the personal data; ...</td>\n",
       "    </tr>\n",
       "    <tr>\n",
       "      <th>2010</th>\n",
       "      <td>GDPR.pdf</td>\n",
       "      <td>27</td>\n",
       "      <td>1</td>\n",
       "      <td>seized may stay its proceedings or may, on req...</td>\n",
       "    </tr>\n",
       "    <tr>\n",
       "      <th>2014</th>\n",
       "      <td>NIST.SP.800-53r5.pdf</td>\n",
       "      <td>441</td>\n",
       "      <td>1</td>\n",
       "      <td>NIST  SP 800- 53, REV. 5                      ...</td>\n",
       "    </tr>\n",
       "  </tbody>\n",
       "</table>\n",
       "<p>796 rows × 4 columns</p>\n",
       "</div>"
      ],
      "text/plain": [
       "                                file_name  page_number  paragraph  \\\n",
       "0                    NIST.SP.800-53r5.pdf          433          1   \n",
       "1                    NIST.SP.800-53r5.pdf          417          1   \n",
       "2                    NIST.SP.800-53r5.pdf          331          1   \n",
       "4     pub-ch-bank-supervision-process.pdf           35          1   \n",
       "8                    NIST.SP.800-53r5.pdf          349          1   \n",
       "...                                   ...          ...        ...   \n",
       "2004                             GDPR.pdf           77          1   \n",
       "2005                 NIST.SP.800-53r5.pdf           92          1   \n",
       "2006                             GDPR.pdf           10          1   \n",
       "2010                             GDPR.pdf           27          1   \n",
       "2014                 NIST.SP.800-53r5.pdf          441          1   \n",
       "\n",
       "                                                   text  \n",
       "0     NIST  SP 800- 53, REV. 5                      ...  \n",
       "1     NIST  SP 800- 53, REV. 5                      ...  \n",
       "2     NIST  SP 800- 53, REV. 5                      ...  \n",
       "4     Version 1.1 Risk- Based Supervision Approach  ...  \n",
       "8     NIST  SP 800- 53, REV. 5                      ...  \n",
       "...                                                 ...  \n",
       "2004  (b)  advise the Commission on any issue relate...  \n",
       "2005  NIST  SP 800- 53, REV. 5                      ...  \n",
       "2006  further use; the nature of the personal data; ...  \n",
       "2010  seized may stay its proceedings or may, on req...  \n",
       "2014  NIST  SP 800- 53, REV. 5                      ...  \n",
       "\n",
       "[796 rows x 4 columns]"
      ]
     },
     "execution_count": 6,
     "metadata": {},
     "output_type": "execute_result"
    }
   ],
   "source": [
    "# Initialize batch scoring for feature view\n",
    "feature_view.init_batch_scoring()\n",
    "\n",
    "# Get batch data from the feature view\n",
    "data = feature_view.get_batch_data()\n",
    "\n",
    "# Filter data to include only rows where the 'text' column length is greater than 2500\n",
    "data_filtered = data[data.text.str.len() > 2500]\n",
    "\n",
    "# Display the filtered data\n",
    "data_filtered"
   ]
  },
  {
   "cell_type": "markdown",
   "id": "d3d2fcb2",
   "metadata": {},
   "source": [
    "## <span style=\"color:#ff5f27\">🪄 Dataset Generation</span>"
   ]
  },
  {
   "cell_type": "code",
   "execution_count": 7,
   "id": "80d80597",
   "metadata": {},
   "outputs": [],
   "source": [
    "def generate_questions(context):\n",
    "\n",
    "    instruction = \"\"\"\n",
    "    The given text is the result of the text extraction from the PDF files. \n",
    "    Generate 3 meaningful questions on the text and the respective answers.\n",
    "    Reply strictly in the JSON format:\n",
    "    {\n",
    "      \"questions\": [\"question1\", \"question2\", \"question3\"],\n",
    "      \"answers\": [\"answer1\", \"answer2\", \"answer3\"]\n",
    "    }\n",
    "\n",
    "    Ensure that the lists of questions and answers are complete and properly formatted. \n",
    "    DO NOT include any additional information or characters outside the specified JSON format. \n",
    "    The response must consist only of the requested JSON structure. \n",
    "    If the generated content does not meet the specified format, please make the necessary adjustments to ensure compliance.\"\"\"\n",
    "\n",
    "    prompt = f\"\\nContext: {context}\\nQuestion: {instruction}\"\n",
    "\n",
    "    # Create a chatbot\n",
    "    completion = client.chat.completions.create(\n",
    "        model=\"gpt-3.5-turbo\",\n",
    "        # Pre-define conversation messages for the possible roles \n",
    "        messages=[\n",
    "            {\"role\": \"user\", \"content\": prompt},\n",
    "        ]\n",
    "    )\n",
    "    response = json_repair.loads(completion.choices[0].message.content)\n",
    "    \n",
    "    response['context'] = context\n",
    "    \n",
    "    return response\n"
   ]
  },
  {
   "cell_type": "code",
   "execution_count": 8,
   "id": "8d3642f6",
   "metadata": {},
   "outputs": [
    {
     "name": "stderr",
     "output_type": "stream",
     "text": [
      "100%|██████████| 796/796 [50:13<00:00,  3.79s/it] \n"
     ]
    }
   ],
   "source": [
    "# Generate question-answer pairs\n",
    "generated_questions = [\n",
    "    generate_questions(text)\n",
    "    for text \n",
    "    in tqdm(data_filtered['text'])\n",
    "]"
   ]
  },
  {
   "cell_type": "code",
   "execution_count": 11,
   "id": "d1f1cc46",
   "metadata": {},
   "outputs": [
    {
     "data": {
      "text/html": [
       "<div>\n",
       "<style scoped>\n",
       "    .dataframe tbody tr th:only-of-type {\n",
       "        vertical-align: middle;\n",
       "    }\n",
       "\n",
       "    .dataframe tbody tr th {\n",
       "        vertical-align: top;\n",
       "    }\n",
       "\n",
       "    .dataframe thead th {\n",
       "        text-align: right;\n",
       "    }\n",
       "</style>\n",
       "<table border=\"1\" class=\"dataframe\">\n",
       "  <thead>\n",
       "    <tr style=\"text-align: right;\">\n",
       "      <th></th>\n",
       "      <th>questions</th>\n",
       "      <th>answers</th>\n",
       "      <th>context</th>\n",
       "    </tr>\n",
       "  </thead>\n",
       "  <tbody>\n",
       "    <tr>\n",
       "      <th>0</th>\n",
       "      <td>[What is the definition of an information type...</td>\n",
       "      <td>[An information type is a specific category of...</td>\n",
       "      <td>NIST  SP 800- 53, REV. 5                      ...</td>\n",
       "    </tr>\n",
       "    <tr>\n",
       "      <th>1</th>\n",
       "      <td>[What is the purpose of NIST SP 800-53, Rev. 5...</td>\n",
       "      <td>[The purpose of NIST SP 800-53, Rev. 5 is to p...</td>\n",
       "      <td>NIST  SP 800- 53, REV. 5                      ...</td>\n",
       "    </tr>\n",
       "    <tr>\n",
       "      <th>2</th>\n",
       "      <td>[What is the purpose of boundary protection de...</td>\n",
       "      <td>[The purpose of boundary protection devices is...</td>\n",
       "      <td>NIST  SP 800- 53, REV. 5                      ...</td>\n",
       "    </tr>\n",
       "    <tr>\n",
       "      <th>3</th>\n",
       "      <td>[What is the OCC's risk-based supervision appr...</td>\n",
       "      <td>[The OCC's risk-based supervision approach is ...</td>\n",
       "      <td>Version 1.1 Risk- Based Supervision Approach  ...</td>\n",
       "    </tr>\n",
       "    <tr>\n",
       "      <th>4</th>\n",
       "      <td>[What is the purpose of external malicious cod...</td>\n",
       "      <td>[The purpose of external malicious code identi...</td>\n",
       "      <td>NIST  SP 800- 53, REV. 5                      ...</td>\n",
       "    </tr>\n",
       "  </tbody>\n",
       "</table>\n",
       "</div>"
      ],
      "text/plain": [
       "                                           questions  \\\n",
       "0  [What is the definition of an information type...   \n",
       "1  [What is the purpose of NIST SP 800-53, Rev. 5...   \n",
       "2  [What is the purpose of boundary protection de...   \n",
       "3  [What is the OCC's risk-based supervision appr...   \n",
       "4  [What is the purpose of external malicious cod...   \n",
       "\n",
       "                                             answers  \\\n",
       "0  [An information type is a specific category of...   \n",
       "1  [The purpose of NIST SP 800-53, Rev. 5 is to p...   \n",
       "2  [The purpose of boundary protection devices is...   \n",
       "3  [The OCC's risk-based supervision approach is ...   \n",
       "4  [The purpose of external malicious code identi...   \n",
       "\n",
       "                                             context  \n",
       "0  NIST  SP 800- 53, REV. 5                      ...  \n",
       "1  NIST  SP 800- 53, REV. 5                      ...  \n",
       "2  NIST  SP 800- 53, REV. 5                      ...  \n",
       "3  Version 1.1 Risk- Based Supervision Approach  ...  \n",
       "4  NIST  SP 800- 53, REV. 5                      ...  "
      ]
     },
     "execution_count": 11,
     "metadata": {},
     "output_type": "execute_result"
    }
   ],
   "source": [
    "# Create a DataFrame from the generated_questions\n",
    "df = pd.DataFrame(generated_questions)\n",
    "\n",
    "# Display the first few rows of the DataFrame\n",
    "df.head()"
   ]
  },
  {
   "cell_type": "code",
   "execution_count": 53,
   "id": "7f906442",
   "metadata": {},
   "outputs": [
    {
     "data": {
      "text/html": [
       "<div>\n",
       "<style scoped>\n",
       "    .dataframe tbody tr th:only-of-type {\n",
       "        vertical-align: middle;\n",
       "    }\n",
       "\n",
       "    .dataframe tbody tr th {\n",
       "        vertical-align: top;\n",
       "    }\n",
       "\n",
       "    .dataframe thead th {\n",
       "        text-align: right;\n",
       "    }\n",
       "</style>\n",
       "<table border=\"1\" class=\"dataframe\">\n",
       "  <thead>\n",
       "    <tr style=\"text-align: right;\">\n",
       "      <th></th>\n",
       "      <th>record_id</th>\n",
       "      <th>questions</th>\n",
       "      <th>answers</th>\n",
       "      <th>context</th>\n",
       "    </tr>\n",
       "  </thead>\n",
       "  <tbody>\n",
       "    <tr>\n",
       "      <th>0</th>\n",
       "      <td>0</td>\n",
       "      <td>What is the definition of an information type ...</td>\n",
       "      <td>An information type is a specific category of ...</td>\n",
       "      <td>NIST  SP 800- 53, REV. 5                      ...</td>\n",
       "    </tr>\n",
       "    <tr>\n",
       "      <th>1</th>\n",
       "      <td>1</td>\n",
       "      <td>What is the definition of an insider threat pr...</td>\n",
       "      <td>An insider threat program is a coordinated col...</td>\n",
       "      <td>NIST  SP 800- 53, REV. 5                      ...</td>\n",
       "    </tr>\n",
       "    <tr>\n",
       "      <th>2</th>\n",
       "      <td>2</td>\n",
       "      <td>What is the principle of least privilege?</td>\n",
       "      <td>The principle of least privilege states that e...</td>\n",
       "      <td>NIST  SP 800- 53, REV. 5                      ...</td>\n",
       "    </tr>\n",
       "    <tr>\n",
       "      <th>3</th>\n",
       "      <td>3</td>\n",
       "      <td>What is the purpose of NIST SP 800-53, Rev. 5?</td>\n",
       "      <td>The purpose of NIST SP 800-53, Rev. 5 is to pr...</td>\n",
       "      <td>NIST  SP 800- 53, REV. 5                      ...</td>\n",
       "    </tr>\n",
       "    <tr>\n",
       "      <th>4</th>\n",
       "      <td>4</td>\n",
       "      <td>Where can NIST SP 800-53, Rev. 5 be obtained?</td>\n",
       "      <td>NIST SP 800-53, Rev. 5 can be obtained for fre...</td>\n",
       "      <td>NIST  SP 800- 53, REV. 5                      ...</td>\n",
       "    </tr>\n",
       "    <tr>\n",
       "      <th>...</th>\n",
       "      <td>...</td>\n",
       "      <td>...</td>\n",
       "      <td>...</td>\n",
       "      <td>...</td>\n",
       "    </tr>\n",
       "    <tr>\n",
       "      <th>2377</th>\n",
       "      <td>2377</td>\n",
       "      <td>Who should compensate for any damage resulting...</td>\n",
       "      <td>The controller or processor should compensate ...</td>\n",
       "      <td>seized may stay its proceedings or may, on req...</td>\n",
       "    </tr>\n",
       "    <tr>\n",
       "      <th>2378</th>\n",
       "      <td>2378</td>\n",
       "      <td>What factors should be taken into account when...</td>\n",
       "      <td>Factors such as the nature, gravity and durati...</td>\n",
       "      <td>seized may stay its proceedings or may, on req...</td>\n",
       "    </tr>\n",
       "    <tr>\n",
       "      <th>2379</th>\n",
       "      <td>2379</td>\n",
       "      <td>What is a replay attack?</td>\n",
       "      <td>A replay attack is when an attacker replays pr...</td>\n",
       "      <td>NIST  SP 800- 53, REV. 5                      ...</td>\n",
       "    </tr>\n",
       "    <tr>\n",
       "      <th>2380</th>\n",
       "      <td>2380</td>\n",
       "      <td>What is the definition of resilience according...</td>\n",
       "      <td>According to OMB A-130, resilience is the abil...</td>\n",
       "      <td>NIST  SP 800- 53, REV. 5                      ...</td>\n",
       "    </tr>\n",
       "    <tr>\n",
       "      <th>2381</th>\n",
       "      <td>2381</td>\n",
       "      <td>What does risk assessment involve?</td>\n",
       "      <td>Risk assessment involves identifying risks to ...</td>\n",
       "      <td>NIST  SP 800- 53, REV. 5                      ...</td>\n",
       "    </tr>\n",
       "  </tbody>\n",
       "</table>\n",
       "<p>2382 rows × 4 columns</p>\n",
       "</div>"
      ],
      "text/plain": [
       "      record_id                                          questions  \\\n",
       "0             0  What is the definition of an information type ...   \n",
       "1             1  What is the definition of an insider threat pr...   \n",
       "2             2          What is the principle of least privilege?   \n",
       "3             3     What is the purpose of NIST SP 800-53, Rev. 5?   \n",
       "4             4      Where can NIST SP 800-53, Rev. 5 be obtained?   \n",
       "...         ...                                                ...   \n",
       "2377       2377  Who should compensate for any damage resulting...   \n",
       "2378       2378  What factors should be taken into account when...   \n",
       "2379       2379                           What is a replay attack?   \n",
       "2380       2380  What is the definition of resilience according...   \n",
       "2381       2381                 What does risk assessment involve?   \n",
       "\n",
       "                                                answers  \\\n",
       "0     An information type is a specific category of ...   \n",
       "1     An insider threat program is a coordinated col...   \n",
       "2     The principle of least privilege states that e...   \n",
       "3     The purpose of NIST SP 800-53, Rev. 5 is to pr...   \n",
       "4     NIST SP 800-53, Rev. 5 can be obtained for fre...   \n",
       "...                                                 ...   \n",
       "2377  The controller or processor should compensate ...   \n",
       "2378  Factors such as the nature, gravity and durati...   \n",
       "2379  A replay attack is when an attacker replays pr...   \n",
       "2380  According to OMB A-130, resilience is the abil...   \n",
       "2381  Risk assessment involves identifying risks to ...   \n",
       "\n",
       "                                                context  \n",
       "0     NIST  SP 800- 53, REV. 5                      ...  \n",
       "1     NIST  SP 800- 53, REV. 5                      ...  \n",
       "2     NIST  SP 800- 53, REV. 5                      ...  \n",
       "3     NIST  SP 800- 53, REV. 5                      ...  \n",
       "4     NIST  SP 800- 53, REV. 5                      ...  \n",
       "...                                                 ...  \n",
       "2377  seized may stay its proceedings or may, on req...  \n",
       "2378  seized may stay its proceedings or may, on req...  \n",
       "2379  NIST  SP 800- 53, REV. 5                      ...  \n",
       "2380  NIST  SP 800- 53, REV. 5                      ...  \n",
       "2381  NIST  SP 800- 53, REV. 5                      ...  \n",
       "\n",
       "[2382 rows x 4 columns]"
      ]
     },
     "execution_count": 53,
     "metadata": {},
     "output_type": "execute_result"
    }
   ],
   "source": [
    "# Explode the DataFrame to expand lists in specified columns ('questions' and 'answers')\n",
    "df_expanded = df.explode(['questions', 'answers']).reset_index(drop=True)\n",
    "\n",
    "# Reset the index to create a new default integer index\n",
    "df_expanded.reset_index(inplace=True)\n",
    "\n",
    "# Rename the 'index' column to 'record_id' for clarity\n",
    "df_expanded.rename(columns={'index': 'record_id'}, inplace=True)\n",
    "\n",
    "# Display the expanded DataFrame\n",
    "df_expanded"
   ]
  },
  {
   "cell_type": "markdown",
   "id": "4fe81b9f",
   "metadata": {},
   "source": [
    "## <span style=\"color:#ff5f27;\"> 🪄 CQA Feature Group Creation </span>"
   ]
  },
  {
   "cell_type": "code",
   "execution_count": 55,
   "id": "0a84b387",
   "metadata": {},
   "outputs": [
    {
     "name": "stdout",
     "output_type": "stream",
     "text": [
      "Feature Group created successfully, explore it at \n",
      "https://snurran.hops.works/p/1143/fs/1091/fg/2061\n"
     ]
    },
    {
     "name": "stderr",
     "output_type": "stream",
     "text": [
      "DeprecationWarning: The `ipykernel.comm.Comm` class has been deprecated. Please use the `comm` module instead.For creating comms, use the function `from comm import create_comm`.\n"
     ]
    },
    {
     "data": {
      "application/vnd.jupyter.widget-view+json": {
       "model_id": "ecae22b13a1343b399d76198da1eb329",
       "version_major": 2,
       "version_minor": 0
      },
      "text/plain": [
       "Uploading Dataframe: 0.00% |          | Rows 0/2382 | Elapsed Time: 00:00 | Remaining Time: ?"
      ]
     },
     "metadata": {},
     "output_type": "display_data"
    },
    {
     "name": "stdout",
     "output_type": "stream",
     "text": [
      "Launching job: cqa_1_offline_fg_materialization\n",
      "Job started successfully, you can follow the progress at \n",
      "https://snurran.hops.works/p/1143/jobs/named/cqa_1_offline_fg_materialization/executions\n"
     ]
    },
    {
     "data": {
      "text/plain": [
       "(<hsfs.core.job.Job at 0x7f60da265570>, None)"
      ]
     },
     "execution_count": 55,
     "metadata": {},
     "output_type": "execute_result"
    }
   ],
   "source": [
    "# Get or create the 'cqa_fg' feature group\n",
    "cqa_fg = fs.get_or_create_feature_group(\n",
    "    name=\"cqa_fg\",\n",
    "    version=1,\n",
    "    description='Context-Question-Response Data',\n",
    "    primary_key=['record_id'],\n",
    ")\n",
    "\n",
    "cqa_fg.insert(df_expanded)"
   ]
  },
  {
   "cell_type": "markdown",
   "id": "2ed251e4",
   "metadata": {},
   "source": [
    "## <span style=\"color:#ff5f27;\"> 🪄 CQA Feature View Creation </span>"
   ]
  },
  {
   "cell_type": "code",
   "execution_count": 25,
   "id": "ed7146f7",
   "metadata": {},
   "outputs": [
    {
     "name": "stdout",
     "output_type": "stream",
     "text": [
      "Feature view created successfully, explore it at \n",
      "https://snurran.hops.works/p/1143/fs/1091/fv/cqa/version/1\n"
     ]
    }
   ],
   "source": [
    "# Get or create the 'cqa' feature view\n",
    "feature_view = fs.get_or_create_feature_view(\n",
    "    name=\"cqa\",\n",
    "    version=1,\n",
    "    query=cqa_fg.select([\"context\", \"questions\", \"responses\"]),\n",
    "    description='Context-Question-Response pairs for model fine-tuning',\n",
    ")"
   ]
  },
  {
   "cell_type": "markdown",
   "id": "02f6f11a",
   "metadata": {},
   "source": [
    "---"
   ]
  }
 ],
 "metadata": {
  "kernelspec": {
   "display_name": "Python 3",
   "language": "python",
   "name": "python3"
  },
  "language_info": {
   "codemirror_mode": {
    "name": "ipython",
    "version": 3
   },
   "file_extension": ".py",
   "mimetype": "text/x-python",
   "name": "python",
   "nbconvert_exporter": "python",
   "pygments_lexer": "ipython3",
   "version": "3.10.11"
  }
 },
 "nbformat": 4,
 "nbformat_minor": 5
}
